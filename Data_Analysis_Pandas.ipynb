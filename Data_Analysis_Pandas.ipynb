{
 "cells": [
  {
   "cell_type": "code",
   "execution_count": 1,
   "metadata": {},
   "outputs": [],
   "source": [
    "import pandas as pd"
   ]
  },
  {
   "cell_type": "code",
   "execution_count": 2,
   "metadata": {},
   "outputs": [
    {
     "name": "stdout",
     "output_type": "stream",
     "text": [
      "    CustomerID First_Name    Last_Name  Phone_Number                                Address Paying Customer Do_Not_Contact  Not_Useful_Column\n",
      "0         1001      Frodo      Baggins  123-545-5421                  123 Shire Lane, Shire             Yes             No               True\n",
      "1         1002       Abed        Nadir  123/643/9775                    93 West Main Street              No            Yes              False\n",
      "2         1003     Walter       /White    7066950392                     298 Drugs Driveway               N            NaN               True\n",
      "3         1004     Dwight      Schrute  123-543-2345  980 Paper Avenue, Pennsylvania, 18503             Yes              Y               True\n",
      "4         1005        Jon         Snow  876|678|3469                       123 Dragons Road               Y             No               True\n",
      "5         1006        Ron      Swanson  304-762-2467                       768 City Parkway             Yes            Yes               True\n",
      "6         1007       Jeff       Winger           NaN                      1209 South Street              No             No              False\n",
      "7         1008   Sherlock       Holmes  876|678|3469                          98 Clue Drive               N             No              False\n",
      "8         1009    Gandalf          NaN           N/a                       123 Middle Earth             Yes            NaN              False\n",
      "9         1010      Peter       Parker  123-545-5421             25th Main Street, New York             Yes             No               True\n",
      "10        1011    Samwise       Gamgee           NaN                  612 Shire Lane, Shire             Yes             No               True\n",
      "11        1012      Harry    ...Potter    7066950392                   2394 Hogwarts Avenue               Y            NaN               True\n",
      "12        1013        Don       Draper  123-543-2345                       2039 Main Street             Yes              N              False\n",
      "13        1014     Leslie        Knope  876|678|3469                       343 City Parkway             Yes             No              False\n",
      "14        1015       Toby  Flenderson_  304-762-2467                          214 HR Avenue               N             No              False\n",
      "15        1016        Ron      Weasley  123-545-5421                   2395 Hogwarts Avenue              No              N              False\n",
      "16        1017   Michael         Scott  123/643/9775         121 Paper Avenue, Pennsylvania             Yes             No              False\n",
      "17        1018      Clark         Kent    7066950392                        3498 Super Lane               Y            NaN               True\n",
      "18        1019      Creed       Braton           N/a                                    N/a             N/a            Yes               True\n",
      "19        1020     Anakin    Skywalker  876|678|3469            910 Tatooine Road, Tatooine             Yes              N               True\n",
      "20        1020     Anakin    Skywalker  876|678|3469            910 Tatooine Road, Tatooine             Yes              N               True\n"
     ]
    }
   ],
   "source": [
    "tb = pd.read_excel(r'/Users/bedirhankurt/Desktop/Programming/Data Analaysis Project (YFF 2)/Arbeid Delen/Customer Call List.xlsx')\n",
    "\n",
    "print(tb.to_string()) "
   ]
  },
  {
   "cell_type": "code",
   "execution_count": 3,
   "metadata": {},
   "outputs": [
    {
     "data": {
      "text/plain": [
       "'Hva skal jeg gjor med denne tabellen?\\n\\n1. Jeg skal slette alle duplicates. Så får jeg en riktigere og mer effektive tabell.\\n\\n2. Jeg skal droppe en column som heter \"Not_Useful_Column\".\\n\\n2. Jeg skal slette alle NaN itemer. Fordi jeg trenger ikke de og de gjor tabellen mer forvirrende.\\n\\n3. Jeg skal fikse noen navnene som skrevet på feil måte i First_Name og Last_Name column.\\n\\n4. Jeg skal fikse Phone_Number column fordi det er mange feil skrivinger der.\\n\\n5. Jeg skal redigere Paying Costomer og Do_Not_Contact columnene fordi svarene skrevet ikke på samme måte.\\n\\n6. Jeg skal filtrere tabellen på forskjellige måter. Det hjelper til å forstå dataset og analysere bedre.\\n\\n7. Reindex itemer i tabellen så kan jeg forstå og analysere variablene bedre.\\n'"
      ]
     },
     "execution_count": 3,
     "metadata": {},
     "output_type": "execute_result"
    }
   ],
   "source": [
    "'''Hva skal jeg gjor med denne tabellen?\n",
    "\n",
    "1. Jeg skal slette alle duplicates. Så får jeg en riktigere og mer effektive tabell.\n",
    "\n",
    "2. Jeg skal droppe en column som heter \"Not_Useful_Column\".\n",
    "\n",
    "2. Jeg skal slette alle NaN itemer. Fordi jeg trenger ikke de og de gjor tabellen mer forvirrende.\n",
    "\n",
    "3. Jeg skal fikse noen navnene som skrevet på feil måte i First_Name og Last_Name column.\n",
    "\n",
    "4. Jeg skal fikse Phone_Number column fordi det er mange feil skrivinger der.\n",
    "\n",
    "5. Jeg skal redigere Paying Costomer og Do_Not_Contact columnene fordi svarene skrevet ikke på samme måte.\n",
    "\n",
    "6. Jeg skal filtrere tabellen på forskjellige måter. Det hjelper til å forstå dataset og analysere bedre.\n",
    "\n",
    "7. Reindex itemer i tabellen så kan jeg forstå og analysere variablene bedre.\n",
    "'''"
   ]
  },
  {
   "cell_type": "code",
   "execution_count": 4,
   "metadata": {},
   "outputs": [
    {
     "name": "stdout",
     "output_type": "stream",
     "text": [
      "    CustomerID First_Name    Last_Name  Phone_Number                                Address Paying Customer Do_Not_Contact  Not_Useful_Column\n",
      "0         1001      Frodo      Baggins  123-545-5421                  123 Shire Lane, Shire             Yes             No               True\n",
      "1         1002       Abed        Nadir  123/643/9775                    93 West Main Street              No            Yes              False\n",
      "2         1003     Walter       /White    7066950392                     298 Drugs Driveway               N            NaN               True\n",
      "3         1004     Dwight      Schrute  123-543-2345  980 Paper Avenue, Pennsylvania, 18503             Yes              Y               True\n",
      "4         1005        Jon         Snow  876|678|3469                       123 Dragons Road               Y             No               True\n",
      "5         1006        Ron      Swanson  304-762-2467                       768 City Parkway             Yes            Yes               True\n",
      "6         1007       Jeff       Winger           NaN                      1209 South Street              No             No              False\n",
      "7         1008   Sherlock       Holmes  876|678|3469                          98 Clue Drive               N             No              False\n",
      "8         1009    Gandalf          NaN           N/a                       123 Middle Earth             Yes            NaN              False\n",
      "9         1010      Peter       Parker  123-545-5421             25th Main Street, New York             Yes             No               True\n",
      "10        1011    Samwise       Gamgee           NaN                  612 Shire Lane, Shire             Yes             No               True\n",
      "11        1012      Harry    ...Potter    7066950392                   2394 Hogwarts Avenue               Y            NaN               True\n",
      "12        1013        Don       Draper  123-543-2345                       2039 Main Street             Yes              N              False\n",
      "13        1014     Leslie        Knope  876|678|3469                       343 City Parkway             Yes             No              False\n",
      "14        1015       Toby  Flenderson_  304-762-2467                          214 HR Avenue               N             No              False\n",
      "15        1016        Ron      Weasley  123-545-5421                   2395 Hogwarts Avenue              No              N              False\n",
      "16        1017   Michael         Scott  123/643/9775         121 Paper Avenue, Pennsylvania             Yes             No              False\n",
      "17        1018      Clark         Kent    7066950392                        3498 Super Lane               Y            NaN               True\n",
      "18        1019      Creed       Braton           N/a                                    N/a             N/a            Yes               True\n",
      "19        1020     Anakin    Skywalker  876|678|3469            910 Tatooine Road, Tatooine             Yes              N               True\n"
     ]
    }
   ],
   "source": [
    "# Å slette duplicates\n",
    "\n",
    "tb.drop_duplicates(inplace = True)\n",
    "\n",
    "print(tb.to_string())"
   ]
  },
  {
   "cell_type": "code",
   "execution_count": 5,
   "metadata": {},
   "outputs": [
    {
     "name": "stdout",
     "output_type": "stream",
     "text": [
      "    CustomerID First_Name    Last_Name  Phone_Number                                Address Paying Customer Do_Not_Contact\n",
      "0         1001      Frodo      Baggins  123-545-5421                  123 Shire Lane, Shire             Yes             No\n",
      "1         1002       Abed        Nadir  123/643/9775                    93 West Main Street              No            Yes\n",
      "2         1003     Walter       /White    7066950392                     298 Drugs Driveway               N            NaN\n",
      "3         1004     Dwight      Schrute  123-543-2345  980 Paper Avenue, Pennsylvania, 18503             Yes              Y\n",
      "4         1005        Jon         Snow  876|678|3469                       123 Dragons Road               Y             No\n",
      "5         1006        Ron      Swanson  304-762-2467                       768 City Parkway             Yes            Yes\n",
      "6         1007       Jeff       Winger           NaN                      1209 South Street              No             No\n",
      "7         1008   Sherlock       Holmes  876|678|3469                          98 Clue Drive               N             No\n",
      "8         1009    Gandalf          NaN           N/a                       123 Middle Earth             Yes            NaN\n",
      "9         1010      Peter       Parker  123-545-5421             25th Main Street, New York             Yes             No\n",
      "10        1011    Samwise       Gamgee           NaN                  612 Shire Lane, Shire             Yes             No\n",
      "11        1012      Harry    ...Potter    7066950392                   2394 Hogwarts Avenue               Y            NaN\n",
      "12        1013        Don       Draper  123-543-2345                       2039 Main Street             Yes              N\n",
      "13        1014     Leslie        Knope  876|678|3469                       343 City Parkway             Yes             No\n",
      "14        1015       Toby  Flenderson_  304-762-2467                          214 HR Avenue               N             No\n",
      "15        1016        Ron      Weasley  123-545-5421                   2395 Hogwarts Avenue              No              N\n",
      "16        1017   Michael         Scott  123/643/9775         121 Paper Avenue, Pennsylvania             Yes             No\n",
      "17        1018      Clark         Kent    7066950392                        3498 Super Lane               Y            NaN\n",
      "18        1019      Creed       Braton           N/a                                    N/a             N/a            Yes\n",
      "19        1020     Anakin    Skywalker  876|678|3469            910 Tatooine Road, Tatooine             Yes              N\n"
     ]
    }
   ],
   "source": [
    "# Å slette \"Not_Useful_Column\".\n",
    "\n",
    "tb = tb.drop(columns = \"Not_Useful_Column\")\n",
    "print(tb.to_string())"
   ]
  },
  {
   "cell_type": "code",
   "execution_count": 6,
   "metadata": {},
   "outputs": [
    {
     "name": "stdout",
     "output_type": "stream",
     "text": [
      "    CustomerID First_Name    Last_Name  Phone_Number                                Address Paying Customer Do_Not_Contact\n",
      "0         1001      Frodo      Baggins  123-545-5421                  123 Shire Lane, Shire             Yes             No\n",
      "1         1002       Abed        Nadir  123/643/9775                    93 West Main Street              No            Yes\n",
      "3         1004     Dwight      Schrute  123-543-2345  980 Paper Avenue, Pennsylvania, 18503             Yes              Y\n",
      "4         1005        Jon         Snow  876|678|3469                       123 Dragons Road               Y             No\n",
      "5         1006        Ron      Swanson  304-762-2467                       768 City Parkway             Yes            Yes\n",
      "7         1008   Sherlock       Holmes  876|678|3469                          98 Clue Drive               N             No\n",
      "9         1010      Peter       Parker  123-545-5421             25th Main Street, New York             Yes             No\n",
      "12        1013        Don       Draper  123-543-2345                       2039 Main Street             Yes              N\n",
      "13        1014     Leslie        Knope  876|678|3469                       343 City Parkway             Yes             No\n",
      "14        1015       Toby  Flenderson_  304-762-2467                          214 HR Avenue               N             No\n",
      "15        1016        Ron      Weasley  123-545-5421                   2395 Hogwarts Avenue              No              N\n",
      "16        1017   Michael         Scott  123/643/9775         121 Paper Avenue, Pennsylvania             Yes             No\n",
      "18        1019      Creed       Braton           N/a                                    N/a             N/a            Yes\n",
      "19        1020     Anakin    Skywalker  876|678|3469            910 Tatooine Road, Tatooine             Yes              N\n"
     ]
    }
   ],
   "source": [
    "# Å slette NaN itemer.\n",
    "\n",
    "tb.dropna(inplace = True, axis = 0)\n",
    "\n",
    "\n",
    "print(tb.to_string())"
   ]
  },
  {
   "cell_type": "code",
   "execution_count": 7,
   "metadata": {},
   "outputs": [
    {
     "name": "stdout",
     "output_type": "stream",
     "text": [
      "    CustomerID First_Name   Last_Name  Phone_Number                                Address Paying Customer Do_Not_Contact\n",
      "0         1001      Frodo     Baggins  123-545-5421                  123 Shire Lane, Shire             Yes             No\n",
      "1         1002       Abed       Nadir  123/643/9775                    93 West Main Street              No            Yes\n",
      "3         1004     Dwight     Schrute  123-543-2345  980 Paper Avenue, Pennsylvania, 18503             Yes              Y\n",
      "4         1005        Jon        Snow  876|678|3469                       123 Dragons Road               Y             No\n",
      "5         1006        Ron     Swanson  304-762-2467                       768 City Parkway             Yes            Yes\n",
      "7         1008   Sherlock      Holmes  876|678|3469                          98 Clue Drive               N             No\n",
      "9         1010      Peter      Parker  123-545-5421             25th Main Street, New York             Yes             No\n",
      "12        1013        Don      Draper  123-543-2345                       2039 Main Street             Yes              N\n",
      "13        1014     Leslie       Knope  876|678|3469                       343 City Parkway             Yes             No\n",
      "14        1015       Toby  Flenderson  304-762-2467                          214 HR Avenue               N             No\n",
      "15        1016        Ron     Weasley  123-545-5421                   2395 Hogwarts Avenue              No              N\n",
      "16        1017    Micheal       Scott  123/643/9775         121 Paper Avenue, Pennsylvania             Yes             No\n",
      "18        1019      Creed      Braton           N/a                                    N/a             N/a            Yes\n",
      "19        1020     Anakin   Skywalker  876|678|3469            910 Tatooine Road, Tatooine             Yes              N\n"
     ]
    }
   ],
   "source": [
    "# Å fikse feil variablene i First_Name og Last_Name\n",
    "\n",
    "tb.loc[16, \"First_Name\"] = \"Micheal\"\n",
    "\n",
    "tb.loc[14, \"Last_Name\"] = \"Flenderson\"\n",
    "\n",
    "print(tb.to_string())"
   ]
  },
  {
   "cell_type": "code",
   "execution_count": 8,
   "metadata": {},
   "outputs": [
    {
     "name": "stdout",
     "output_type": "stream",
     "text": [
      "    CustomerID First_Name   Last_Name  Phone_Number                                Address Paying Customer Do_Not_Contact\n",
      "0         1001      Frodo     Baggins  123-545-5421                  123 Shire Lane, Shire             Yes             No\n",
      "1         1002       Abed       Nadir  123-643-9775                    93 West Main Street              No            Yes\n",
      "2         1004     Dwight     Schrute  123-543-2345  980 Paper Avenue, Pennsylvania, 18503             Yes              Y\n",
      "3         1005        Jon        Snow  876-678-3469                       123 Dragons Road               Y             No\n",
      "4         1006        Ron     Swanson  304-762-2467                       768 City Parkway             Yes            Yes\n",
      "5         1008   Sherlock      Holmes  876-678-3469                          98 Clue Drive               N             No\n",
      "6         1010      Peter      Parker  123-545-5421             25th Main Street, New York             Yes             No\n",
      "7         1013        Don      Draper  123-543-2345                       2039 Main Street             Yes              N\n",
      "8         1014     Leslie       Knope  876-678-3469                       343 City Parkway             Yes             No\n",
      "9         1015       Toby  Flenderson  304-762-2467                          214 HR Avenue               N             No\n",
      "10        1016        Ron     Weasley  123-545-5421                   2395 Hogwarts Avenue              No              N\n",
      "11        1017    Micheal       Scott  123-643-9775         121 Paper Avenue, Pennsylvania             Yes             No\n",
      "12        1019      Creed      Braton           ---                                    N/a             N/a            Yes\n",
      "13        1020     Anakin   Skywalker  876-678-3469            910 Tatooine Road, Tatooine             Yes              N\n"
     ]
    }
   ],
   "source": [
    "# Å fikse nummere i Phone_Number column.\n",
    "tb.to_excel('output.xlsx', index=False)\n",
    "tb = pd.read_excel(r'/Users/bedirhankurt/Desktop/Programming/Data Analaysis Project (YFF 2)/Arbeid Delen/output.xlsx')\n",
    "ikke_num = r'\\D'\n",
    "\n",
    "tb[\"Phone_Number\"] = tb[\"Phone_Number\"].replace(to_replace = r'\\D', value = \"-\", regex = True)\n",
    "\n",
    "print(tb.to_string())\n",
    "\n",
    "tb.to_excel('output1.xlsx', index=False)\n",
    "\n"
   ]
  },
  {
   "cell_type": "code",
   "execution_count": 9,
   "metadata": {},
   "outputs": [
    {
     "name": "stdout",
     "output_type": "stream",
     "text": [
      "    CustomerID First_Name   Last_Name  Phone_Number                                Address Paying Customer Do_Not_Contact\n",
      "0         1001      Frodo     Baggins  123-545-5421                  123 Shire Lane, Shire             Yes             No\n",
      "1         1002       Abed       Nadir  123-643-9775                    93 West Main Street              No            Yes\n",
      "2         1004     Dwight     Schrute  123-543-2345  980 Paper Avenue, Pennsylvania, 18503             Yes            Yes\n",
      "3         1005        Jon        Snow  876-678-3469                       123 Dragons Road             Yes             No\n",
      "4         1006        Ron     Swanson  304-762-2467                       768 City Parkway             Yes            Yes\n",
      "5         1008   Sherlock      Holmes  876-678-3469                          98 Clue Drive              No             No\n",
      "6         1010      Peter      Parker  123-545-5421             25th Main Street, New York             Yes             No\n",
      "7         1013        Don      Draper  123-543-2345                       2039 Main Street             Yes             No\n",
      "8         1014     Leslie       Knope  876-678-3469                       343 City Parkway             Yes             No\n",
      "9         1015       Toby  Flenderson  304-762-2467                          214 HR Avenue              No             No\n",
      "10        1016        Ron     Weasley  123-545-5421                   2395 Hogwarts Avenue              No             No\n",
      "11        1017    Micheal       Scott  123-643-9775         121 Paper Avenue, Pennsylvania             Yes             No\n",
      "12        1019      Creed      Braton           ---                                    N/a             N/a            Yes\n",
      "13        1020     Anakin   Skywalker  876-678-3469            910 Tatooine Road, Tatooine             Yes             No\n"
     ]
    }
   ],
   "source": [
    "# Å fikse Paying Contact og Do_Not_Contact column.\n",
    "\n",
    "tb = pd.read_excel(r'/Users/bedirhankurt/Desktop/Programming/Data Analaysis Project (YFF 2)/Arbeid Delen/output1.xlsx')\n",
    "tb['Paying Customer'] = tb['Paying Customer'].replace({'Y': 'Yes', 'N': 'No'})\n",
    "tb['Do_Not_Contact'] = tb['Do_Not_Contact'].replace({'Y': 'Yes', 'N': 'No'})\n",
    "\n",
    "print(tb.to_string())\n"
   ]
  },
  {
   "cell_type": "code",
   "execution_count": 10,
   "metadata": {},
   "outputs": [
    {
     "name": "stdout",
     "output_type": "stream",
     "text": [
      "    CustomerID First_Name   Last_Name  Phone_Number                         Address Paying Customer Do_Not_Contact\n",
      "0         1001      Frodo     Baggins  123-545-5421           123 Shire Lane, Shire             Yes             No\n",
      "3         1005        Jon        Snow  876-678-3469                123 Dragons Road             Yes             No\n",
      "5         1008   Sherlock      Holmes  876-678-3469                   98 Clue Drive              No             No\n",
      "6         1010      Peter      Parker  123-545-5421      25th Main Street, New York             Yes             No\n",
      "7         1013        Don      Draper  123-543-2345                2039 Main Street             Yes             No\n",
      "8         1014     Leslie       Knope  876-678-3469                343 City Parkway             Yes             No\n",
      "9         1015       Toby  Flenderson  304-762-2467                   214 HR Avenue              No             No\n",
      "10        1016        Ron     Weasley  123-545-5421            2395 Hogwarts Avenue              No             No\n",
      "11        1017    Micheal       Scott  123-643-9775  121 Paper Avenue, Pennsylvania             Yes             No\n",
      "13        1020     Anakin   Skywalker  876-678-3469     910 Tatooine Road, Tatooine             Yes             No\n"
     ]
    }
   ],
   "source": [
    "# Å filtre data\n",
    "\n",
    "tb = tb[tb[\"Do_Not_Contact\"] == \"No\"]\n",
    "\n",
    "print(tb.to_string())\n",
    "\n"
   ]
  },
  {
   "cell_type": "code",
   "execution_count": 11,
   "metadata": {},
   "outputs": [
    {
     "name": "stdout",
     "output_type": "stream",
     "text": [
      "   CustomerID First_Name   Last_Name  Phone_Number                         Address Paying Customer Do_Not_Contact\n",
      "0        1001      Frodo     Baggins  123-545-5421           123 Shire Lane, Shire             Yes             No\n",
      "1        1005        Jon        Snow  876-678-3469                123 Dragons Road             Yes             No\n",
      "2        1008   Sherlock      Holmes  876-678-3469                   98 Clue Drive              No             No\n",
      "3        1010      Peter      Parker  123-545-5421      25th Main Street, New York             Yes             No\n",
      "4        1013        Don      Draper  123-543-2345                2039 Main Street             Yes             No\n",
      "5        1014     Leslie       Knope  876-678-3469                343 City Parkway             Yes             No\n",
      "6        1015       Toby  Flenderson  304-762-2467                   214 HR Avenue              No             No\n",
      "7        1016        Ron     Weasley  123-545-5421            2395 Hogwarts Avenue              No             No\n",
      "8        1017    Micheal       Scott  123-643-9775  121 Paper Avenue, Pennsylvania             Yes             No\n",
      "9        1020     Anakin   Skywalker  876-678-3469     910 Tatooine Road, Tatooine             Yes             No\n"
     ]
    }
   ],
   "source": [
    "# Reindex columner\n",
    "\n",
    "tb = tb.reset_index()\n",
    "\n",
    "tb = tb.drop(columns=['index'])\n",
    "print(tb.to_string())\n",
    "\n"
   ]
  },
  {
   "cell_type": "code",
   "execution_count": null,
   "metadata": {},
   "outputs": [],
   "source": []
  },
  {
   "cell_type": "code",
   "execution_count": null,
   "metadata": {},
   "outputs": [],
   "source": []
  },
  {
   "cell_type": "code",
   "execution_count": null,
   "metadata": {},
   "outputs": [],
   "source": []
  }
 ],
 "metadata": {
  "kernelspec": {
   "display_name": "Python 3",
   "language": "python",
   "name": "python3"
  },
  "language_info": {
   "codemirror_mode": {
    "name": "ipython",
    "version": 3
   },
   "file_extension": ".py",
   "mimetype": "text/x-python",
   "name": "python",
   "nbconvert_exporter": "python",
   "pygments_lexer": "ipython3",
   "version": "3.11.4"
  }
 },
 "nbformat": 4,
 "nbformat_minor": 2
}
